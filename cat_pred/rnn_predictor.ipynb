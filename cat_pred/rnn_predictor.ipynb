{
 "cells": [
  {
   "cell_type": "code",
   "execution_count": null,
   "metadata": {},
   "outputs": [],
   "source": [
    "import os\n",
    "import shutil\n",
    "import numpy as np\n",
    "import tensorflow as tf\n",
    "import tensorflow_datasets as tfds\n",
    "import pandas as pd\n",
    "#import tensorflow_hub as hub\n",
    "#import tensorflow_text as text\n",
    "\n",
    "print(\"TF Version: \", tf.__version__)"
   ]
  },
  {
   "cell_type": "code",
   "execution_count": null,
   "metadata": {},
   "outputs": [],
   "source": [
    "import matplotlib.pyplot as plt\n",
    "\n",
    "\n",
    "def plot_graphs(history, metric):\n",
    "  plt.plot(history.history[metric])\n",
    "  plt.plot(history.history['val_'+metric], '')\n",
    "  plt.xlabel(\"Epochs\")\n",
    "  plt.ylabel(metric)\n",
    "  plt.legend([metric, 'val_'+metric])"
   ]
  },
  {
   "cell_type": "code",
   "execution_count": null,
   "metadata": {},
   "outputs": [],
   "source": []
  },
  {
   "cell_type": "code",
   "execution_count": null,
   "metadata": {},
   "outputs": [],
   "source": [
    "import pandas as pd\n",
    "from sklearn.model_selection import train_test_split\n",
    "\n",
    "data_loc = \"C:\\\\Users\\\\mgf-l\\\\Desktop\\\\structured_data.xlsx\"\n",
    "df = pd.read_excel(data_loc)\n",
    "    \n",
    "df = df.dropna(subset=['category', 'title'])\n",
    "\n",
    "\n",
    "df = df[['category', 'title']]\n",
    "\n",
    "\n",
    "X = df['title']   \n",
    "y = df['category']  \n",
    "\n",
    "\n",
    "train_X, test_X, train_y, test_y = train_test_split(X, y, test_size=0.2, random_state=42) \n",
    "\n",
    "train_dataset = tf.data.Dataset.from_tensor_slices((train_X, train_y))\n",
    "test_dataset = tf.data.Dataset.from_tensor_slices((test_X, test_y))\n",
    "train_dataset\n"
   ]
  },
  {
   "cell_type": "code",
   "execution_count": null,
   "metadata": {},
   "outputs": [],
   "source": [
    "for example, label in train_dataset.take(1):\n",
    "  print('text: ', example.numpy())\n",
    "  print('label: ', label.numpy())"
   ]
  },
  {
   "cell_type": "code",
   "execution_count": null,
   "metadata": {},
   "outputs": [],
   "source": [
    "from tensorflow.keras.preprocessing.text import Tokenizer\n",
    "from tensorflow.keras.preprocessing.sequence import pad_sequences\n",
    "\n",
    "# Define tokenizer\n",
    "tokenizer = Tokenizer(num_words=10000, oov_token=\"<OOV>\")\n",
    "tokenizer.fit_on_texts(train_X)  # Fit only to training data\n",
    "\n",
    "# Convert texts to sequences\n",
    "train_sequences = tokenizer.texts_to_sequences(train_X)\n",
    "test_sequences = tokenizer.texts_to_sequences(test_X)\n",
    "\n",
    "# Pad sequences\n",
    "max_length = max(len(x) for x in train_sequences)  # You can set a specific max_length if you prefer\n",
    "train_padded = pad_sequences(train_sequences, maxlen=max_length, padding='post')\n",
    "test_padded = pad_sequences(test_sequences, maxlen=max_length, padding='post')\n"
   ]
  },
  {
   "cell_type": "code",
   "execution_count": null,
   "metadata": {},
   "outputs": [],
   "source": [
    "from sklearn.preprocessing import LabelEncoder\n",
    "import tensorflow as tf\n",
    "\n",
    "encoder = LabelEncoder()\n",
    "encoder.fit(train_y)  # Fit encoder on the training labels\n",
    "\n",
    "# Transform categories to integers\n",
    "train_labels = encoder.transform(train_y)\n",
    "test_labels = encoder.transform(test_y)\n",
    "\n",
    "# Convert to one-hot encoding\n",
    "train_labels_one_hot = tf.keras.utils.to_categorical(train_labels)\n",
    "test_labels_one_hot = tf.keras.utils.to_categorical(test_labels)\n"
   ]
  },
  {
   "cell_type": "code",
   "execution_count": null,
   "metadata": {},
   "outputs": [],
   "source": [
    "scrape_df = pd.read_excel(\"C:\\\\Users\\\\mgf-l\\\\Desktop\\\\structured_data.xlsx\", sheet_name = \"scraped\")"
   ]
  },
  {
   "cell_type": "code",
   "execution_count": null,
   "metadata": {},
   "outputs": [],
   "source": []
  },
  {
   "cell_type": "code",
   "execution_count": null,
   "metadata": {},
   "outputs": [],
   "source": [
    "for example, label in train_dataset.take(1):\n",
    "  print('texts: ', example.numpy()[:3])\n",
    "  print()\n",
    "  print('labels: ', label.numpy()[:3])"
   ]
  },
  {
   "cell_type": "code",
   "execution_count": null,
   "metadata": {},
   "outputs": [],
   "source": []
  },
  {
   "cell_type": "code",
   "execution_count": null,
   "metadata": {},
   "outputs": [],
   "source": [
    "model = tf.keras.Sequential([\n",
    "    tf.keras.layers.Embedding(input_dim=10000, output_dim=16, input_length=max_length),\n",
    "    tf.keras.layers.GlobalAveragePooling1D(),\n",
    "    tf.keras.layers.Dense(24, activation='relu'),\n",
    "    tf.keras.layers.Dense(len(encoder.classes_), activation='softmax')\n",
    "])\n",
    "\n",
    "model.compile(optimizer='adam', loss='categorical_crossentropy', metrics=['accuracy'])\n",
    "\n"
   ]
  },
  {
   "cell_type": "code",
   "execution_count": null,
   "metadata": {},
   "outputs": [],
   "source": [
    "history = model.fit(train_padded, train_labels_one_hot, epochs=30, validation_data=(test_padded, test_labels_one_hot))\n"
   ]
  },
  {
   "cell_type": "code",
   "execution_count": null,
   "metadata": {},
   "outputs": [],
   "source": [
    "history2 = model.fit(train_padded, train_labels_one_hot, epochs=40, validation_data=(test_padded, test_labels_one_hot))"
   ]
  },
  {
   "cell_type": "code",
   "execution_count": null,
   "metadata": {},
   "outputs": [],
   "source": [
    "loss, accuracy = model.evaluate(test_padded, test_labels_one_hot)\n",
    "print(f\"Test accuracy: {accuracy}\")\n",
    "\n",
    "\n",
    "predictions = model.predict(test_padded)\n",
    "predicted_categories = encoder.inverse_transform([np.argmax(p) for p in predictions])\n"
   ]
  },
  {
   "cell_type": "code",
   "execution_count": null,
   "metadata": {},
   "outputs": [],
   "source": [
    "\n",
    "\n",
    "scrape_df = pd.read_excel(\"C:\\\\Users\\\\mgf-l\\\\Desktop\\\\structured_data.xlsx\", sheet_name=\"scraped\")\n",
    "\n",
    "scrape_titles = scrape_df['title']\n",
    "\n",
    "scrape_sequences = tokenizer.texts_to_sequences(scrape_titles)\n",
    "scrape_padded = pad_sequences(scrape_sequences, maxlen=max_length, padding='post')\n",
    "\n",
    "scrape_predictions = model.predict(scrape_padded)\n",
    "scrape_predicted_categories = encoder.inverse_transform([np.argmax(p) for p in scrape_predictions])\n",
    "\n",
    "\n",
    "\n",
    "scrape_df['Predicted Category'] = scrape_predicted_categories\n",
    "\n",
    "scrape_df.to_excel(\"C:\\\\Users\\\\mgf-l\\\\Desktop\\\\title_prediction_output.xlsx\", sheet_name=\"scraped_results\", index=False)\n"
   ]
  },
  {
   "cell_type": "code",
   "execution_count": null,
   "metadata": {},
   "outputs": [],
   "source": [
    "model.summary()"
   ]
  },
  {
   "cell_type": "code",
   "execution_count": null,
   "metadata": {},
   "outputs": [],
   "source": [
    "from tensorflow.keras.utils import plot_model\n",
    "\n",
    "# Assuming 'model' is your Keras model\n",
    "plot_model(model, to_file='C:\\\\Users\\\\mgf-l\\\\Desktop\\\\model_plot.png', show_shapes=True, show_layer_names=True)\n"
   ]
  },
  {
   "cell_type": "code",
   "execution_count": null,
   "metadata": {},
   "outputs": [],
   "source": [
    "tensorboard_callback = tf.keras.callbacks.TensorBoard(log_dir=\"./logs\")\n",
    "\n"
   ]
  },
  {
   "cell_type": "code",
   "execution_count": null,
   "metadata": {},
   "outputs": [],
   "source": [
    "model.fit(train_padded, train_labels_one_hot, epochs=30, validation_data=(test_padded, test_labels_one_hot), callbacks=[tensorboard_callback])"
   ]
  }
 ],
 "metadata": {
  "kernelspec": {
   "display_name": "cat_pred",
   "language": "python",
   "name": "python3"
  },
  "language_info": {
   "codemirror_mode": {
    "name": "ipython",
    "version": 3
   },
   "file_extension": ".py",
   "mimetype": "text/x-python",
   "name": "python",
   "nbconvert_exporter": "python",
   "pygments_lexer": "ipython3",
   "version": "3.12.3"
  }
 },
 "nbformat": 4,
 "nbformat_minor": 2
}
